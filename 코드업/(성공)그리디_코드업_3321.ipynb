{
 "cells": [
  {
   "cell_type": "code",
   "execution_count": 2,
   "metadata": {},
   "outputs": [
    {
     "name": "stdout",
     "output_type": "stream",
     "text": [
      "3\n",
      "12 2\n",
      "200\n",
      "50\n",
      "300\n",
      "100\n",
      "37\n"
     ]
    }
   ],
   "source": [
    "n = int(input())\n",
    "\n",
    "dow_price, topp_price = map(int,input().split())\n",
    "\n",
    "dow_kcal = int(input())\n",
    "\n",
    "topp_kcal = []\n",
    "\n",
    "cal = 0\n",
    "\n",
    "price = 0\n",
    "\n",
    "result = 0\n",
    "\n",
    "\n",
    "for i in range(n):\n",
    "    \n",
    "    topp_kcal.append(int(input()))\n",
    "\n",
    "topp_kcal.sort(reverse=True)\n",
    "\n",
    "\n",
    "for j in topp_kcal:\n",
    "\n",
    "    cal = cal + j\n",
    "\n",
    "    price = price + topp_price\n",
    "\n",
    "    cal_final = (dow_kcal + cal)/(dow_price + price)\n",
    "\n",
    "    \n",
    "    if result < cal_final:\n",
    "\n",
    "        result = cal_final\n",
    "\n",
    "    else:\n",
    "\n",
    "        break\n",
    "    \n",
    "        \n",
    "print(int(result))\n",
    "\n",
    "\n",
    "# 이 문제의 핵심은 cal과 price를 구하는 계산은 누적의 개념이 적용되고,\n",
    "# cal_final 을 구하는 계산에서는 dow_kcal과 dow_price값은 일시적으로 cal_final을 구하고 \n",
    "# if/else 계산에 적용된 뒤 사라지는 개념이다."
   ]
  }
 ],
 "metadata": {
  "kernelspec": {
   "display_name": "Python 3",
   "language": "python",
   "name": "python3"
  },
  "language_info": {
   "codemirror_mode": {
    "name": "ipython",
    "version": 3
   },
   "file_extension": ".py",
   "mimetype": "text/x-python",
   "name": "python",
   "nbconvert_exporter": "python",
   "pygments_lexer": "ipython3",
   "version": "3.8.3"
  }
 },
 "nbformat": 4,
 "nbformat_minor": 4
}
