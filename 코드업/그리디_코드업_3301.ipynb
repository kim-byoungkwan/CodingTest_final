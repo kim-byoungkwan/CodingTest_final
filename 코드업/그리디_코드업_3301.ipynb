{
 "cells": [
  {
   "cell_type": "code",
   "execution_count": 1,
   "metadata": {},
   "outputs": [
    {
     "name": "stdout",
     "output_type": "stream",
     "text": [
      "54520\n",
      "8\n"
     ]
    }
   ],
   "source": [
    "n = int(input())\n",
    "\n",
    "\n",
    "rest = [ 50000, 10000, 5000, 1000, 500, 100, 50, 10 ]\n",
    "\n",
    "\n",
    "\n",
    "temp = 0\n",
    "num = 0\n",
    "\n",
    "\n",
    "for i in rest:\n",
    "    num = num + n // i\n",
    "    n = n % i\n",
    "\n",
    "    \n",
    "print(num)\n",
    "\n",
    "\n",
    "    \n",
    "        "
   ]
  }
 ],
 "metadata": {
  "kernelspec": {
   "display_name": "Python 3",
   "language": "python",
   "name": "python3"
  },
  "language_info": {
   "codemirror_mode": {
    "name": "ipython",
    "version": 3
   },
   "file_extension": ".py",
   "mimetype": "text/x-python",
   "name": "python",
   "nbconvert_exporter": "python",
   "pygments_lexer": "ipython3",
   "version": "3.8.3"
  }
 },
 "nbformat": 4,
 "nbformat_minor": 4
}
