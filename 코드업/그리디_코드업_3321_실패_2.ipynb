{
 "cells": [
  {
   "cell_type": "code",
   "execution_count": 7,
   "metadata": {},
   "outputs": [
    {
     "name": "stdout",
     "output_type": "stream",
     "text": [
      "3\n",
      "12 2\n",
      "200\n",
      "50\n",
      "300\n",
      "100\n",
      "225\n"
     ]
    }
   ],
   "source": [
    "n = int(input())\n",
    "\n",
    "price_dow,price_topp = map(int,input().split())\n",
    "\n",
    "cal_dow = int(input())\n",
    "\n",
    "cal_topp = []\n",
    "\n",
    "for i in range(n):\n",
    "    cal_topp.append(int(input()))\n",
    "\n",
    "    \n",
    "cal_topp.sort(reverse=True)\n",
    "\n",
    "\n",
    "\n",
    "result = 0\n",
    "\n",
    "price_total = 0\n",
    "\n",
    "cal_total = 0\n",
    "\n",
    "\n",
    "\n",
    "for j in cal_topp:\n",
    "    \n",
    "    cal_topp_new = cal_topp_new + j\n",
    "    \n",
    "    cal_total = cal_total + cal_topp_new\n",
    "    \n",
    "    price_total = price_total + price_topp\n",
    "    \n",
    "    cal_final = (cal_total+cal_dow)/float(price_total+price_dow)\n",
    "    \n",
    "    if result > cal_final :\n",
    "        \n",
    "        break\n",
    "        \n",
    "    else:\n",
    "        \n",
    "        result = cal_final\n",
    "        \n",
    "        \n",
    "result_zero = cal_dow/price_dow\n",
    "\n",
    "        \n",
    "if result > result_zero:\n",
    "    print(int(result))\n",
    "    \n",
    "else:\n",
    "    print(int(result_zero))\n",
    "\n"
   ]
  }
 ],
 "metadata": {
  "kernelspec": {
   "display_name": "Python 3",
   "language": "python",
   "name": "python3"
  },
  "language_info": {
   "codemirror_mode": {
    "name": "ipython",
    "version": 3
   },
   "file_extension": ".py",
   "mimetype": "text/x-python",
   "name": "python",
   "nbconvert_exporter": "python",
   "pygments_lexer": "ipython3",
   "version": "3.8.3"
  }
 },
 "nbformat": 4,
 "nbformat_minor": 4
}
