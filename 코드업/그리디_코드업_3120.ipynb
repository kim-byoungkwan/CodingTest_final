{
 "cells": [
  {
   "cell_type": "code",
   "execution_count": 10,
   "metadata": {},
   "outputs": [
    {
     "name": "stdout",
     "output_type": "stream",
     "text": [
      "23 20\n",
      "3\n"
     ]
    }
   ],
   "source": [
    "now,future = input().split()\n",
    "\n",
    "now = int(now)\n",
    "future = int(future)\n",
    "\n",
    "num = 0\n",
    "\n",
    "gap = abs(now - future)\n",
    "\n",
    "num = num + gap // 10 \n",
    "\n",
    "\n",
    "if gap % 10 == 1:\n",
    "    num = num + 1\n",
    "\n",
    "elif gap % 10 == 2:\n",
    "    num = num + 2\n",
    "\n",
    "elif gap % 10 == 3:\n",
    "    num = num + 3\n",
    "    \n",
    "elif gap % 10 == 4:\n",
    "    num = num + 2\n",
    "    \n",
    "elif gap % 10 == 5:\n",
    "    num = num + 1\n",
    "    \n",
    "elif gap % 10 == 6:\n",
    "    num = num + 2\n",
    "    \n",
    "elif gap % 10 == 7:\n",
    "    num = num + 3\n",
    "\n",
    "elif gap % 10 == 8:\n",
    "    num = num + 3\n",
    "    \n",
    "elif gap % 10 == 9:\n",
    "    num = num + 2\n",
    "    \n",
    "else :\n",
    "    print(num)\n",
    "    \n",
    "print(num)\n"
   ]
  }
 ],
 "metadata": {
  "kernelspec": {
   "display_name": "Python 3",
   "language": "python",
   "name": "python3"
  },
  "language_info": {
   "codemirror_mode": {
    "name": "ipython",
    "version": 3
   },
   "file_extension": ".py",
   "mimetype": "text/x-python",
   "name": "python",
   "nbconvert_exporter": "python",
   "pygments_lexer": "ipython3",
   "version": "3.8.3"
  }
 },
 "nbformat": 4,
 "nbformat_minor": 4
}
