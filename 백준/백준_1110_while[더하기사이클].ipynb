{
 "cells": [
  {
   "cell_type": "code",
   "execution_count": 8,
   "metadata": {},
   "outputs": [
    {
     "name": "stdout",
     "output_type": "stream",
     "text": [
      "0\n",
      "1\n",
      "1\n"
     ]
    }
   ],
   "source": [
    "N = int(input())\n",
    "\n",
    "initial_value = N\n",
    "\n",
    "\n",
    "count = 1\n",
    "\n",
    "\n",
    "num_last = N % 10 \n",
    "        \n",
    "num_first = N // 10\n",
    "\n",
    "num_result = num_first + num_last\n",
    "\n",
    "\n",
    "N_new = (num_last*10) + (num_result % 10)\n",
    "\n",
    "\n",
    "\n",
    "total = []\n",
    "\n",
    "while True:\n",
    "    \n",
    "    if initial_value == 0:\n",
    "        \n",
    "        break\n",
    "    \n",
    "    \n",
    "    elif N_new == initial_value:\n",
    "        \n",
    "        break\n",
    "        \n",
    "        \n",
    "    else:\n",
    "        \n",
    "        num_last = N_new % 10 \n",
    "        \n",
    "        num_first = N_new // 10\n",
    "        \n",
    "        num_result = num_first + num_last\n",
    "        \n",
    "        \n",
    "        N_new = (num_last*10) + (num_result % 10)\n",
    "        \n",
    "        count = count + 1\n",
    "        \n",
    "\n",
    "print(count)\n",
    "        "
   ]
  }
 ],
 "metadata": {
  "kernelspec": {
   "display_name": "Python 3",
   "language": "python",
   "name": "python3"
  },
  "language_info": {
   "codemirror_mode": {
    "name": "ipython",
    "version": 3
   },
   "file_extension": ".py",
   "mimetype": "text/x-python",
   "name": "python",
   "nbconvert_exporter": "python",
   "pygments_lexer": "ipython3",
   "version": "3.8.3"
  }
 },
 "nbformat": 4,
 "nbformat_minor": 4
}
