{
 "cells": [
  {
   "cell_type": "code",
   "execution_count": null,
   "metadata": {},
   "outputs": [],
   "source": [
    "x = int(input())\n",
    "\n",
    "y = int(input())\n",
    "\n",
    "\n",
    "if x > 0 and y > 0 :\n",
    "    \n",
    "    print(1)\n",
    "    \n",
    "elif x < 0 and y > 0:\n",
    "    \n",
    "    print(2)\n",
    "    \n",
    "elif x < 0 and y < 0:\n",
    "    \n",
    "    print(3)\n",
    "    \n",
    "else:\n",
    "    \n",
    "    print(4)\n",
    "\n"
   ]
  }
 ],
 "metadata": {
  "kernelspec": {
   "display_name": "Python 3",
   "language": "python",
   "name": "python3"
  },
  "language_info": {
   "codemirror_mode": {
    "name": "ipython",
    "version": 3
   },
   "file_extension": ".py",
   "mimetype": "text/x-python",
   "name": "python",
   "nbconvert_exporter": "python",
   "pygments_lexer": "ipython3",
   "version": "3.8.3"
  }
 },
 "nbformat": 4,
 "nbformat_minor": 4
}
