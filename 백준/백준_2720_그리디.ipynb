{
 "cells": [
  {
   "cell_type": "code",
   "execution_count": 3,
   "metadata": {},
   "outputs": [
    {
     "name": "stdout",
     "output_type": "stream",
     "text": [
      "3\n",
      "124\n",
      "25\n",
      "194\n",
      "4 2 0 4 \n",
      "1 0 0 0 \n",
      "7 1 1 4 \n"
     ]
    }
   ],
   "source": [
    "t = int(input())\n",
    "\n",
    "money = []\n",
    "\n",
    "coin = [25, 10, 5,1]\n",
    "\n",
    "num = []\n",
    "\n",
    "\n",
    "\n",
    "for i in range(t):\n",
    "    money.append(int(input()))\n",
    "    \n",
    "\n",
    "\n",
    "for j in money:\n",
    "    \n",
    "    for k in coin:\n",
    "        num.append(j//k)\n",
    "        j = j%k\n",
    "    \n",
    "    for m in num:\n",
    "        print(m, end=' ')\n",
    "    \n",
    "    print()\n",
    "    \n",
    "    num = []\n",
    "\n",
    "        \n",
    "\n",
    "        \n",
    "\n",
    "    \n",
    "    \n",
    "    \n",
    "\n",
    "\n"
   ]
  }
 ],
 "metadata": {
  "kernelspec": {
   "display_name": "Python 3",
   "language": "python",
   "name": "python3"
  },
  "language_info": {
   "codemirror_mode": {
    "name": "ipython",
    "version": 3
   },
   "file_extension": ".py",
   "mimetype": "text/x-python",
   "name": "python",
   "nbconvert_exporter": "python",
   "pygments_lexer": "ipython3",
   "version": "3.8.3"
  }
 },
 "nbformat": 4,
 "nbformat_minor": 4
}
