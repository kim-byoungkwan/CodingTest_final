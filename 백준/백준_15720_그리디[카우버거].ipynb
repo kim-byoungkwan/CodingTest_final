{
 "cells": [
  {
   "cell_type": "code",
   "execution_count": 12,
   "metadata": {},
   "outputs": [
    {
     "name": "stdout",
     "output_type": "stream",
     "text": [
      "3 3 2\n",
      "2000 3000 2500\n",
      "800 1300 1000\n",
      "500 1000\n",
      "12100\n",
      "11170\n"
     ]
    }
   ],
   "source": [
    "num_burgur, num_side, num_beverage = map(int,input().split())\n",
    "\n",
    "price_burgur = list(map(int,input().split()))\n",
    "\n",
    "price_side = list(map(int,input().split()))\n",
    "\n",
    "price_beverage = list(map(int,input().split()))\n",
    "\n",
    "\n",
    "former_price = (sum(price_burgur) + sum(price_side) + sum(price_beverage))\n",
    "\n",
    "print(former_price)\n",
    "\n",
    "\n",
    "price_burgur.sort(reverse = True)\n",
    "\n",
    "price_side.sort(reverse = True)\n",
    "\n",
    "price_beverage.sort(reverse = True)\n",
    "\n",
    "\n",
    "sample_price = []\n",
    "\n",
    "\n",
    "num_storage = [num_burgur, num_side, num_beverage]\n",
    "\n",
    "\n",
    "saled_price = []\n",
    "\n",
    "\n",
    "for i in range(min(num_storage)):\n",
    "    \n",
    "    sample_price.append(price_burgur.pop(0))\n",
    "    \n",
    "    sample_price.append(price_side.pop(0))\n",
    "    \n",
    "    sample_price.append(price_beverage.pop(0))\n",
    "    \n",
    "    saled_price.append(sum(sample_price)*0.9)\n",
    "    \n",
    "    \n",
    "    sample_price = []\n",
    "    \n",
    "    \n",
    "non_saled_price = (sum(price_burgur) + sum(price_side) + sum(price_beverage)) \n",
    "\n",
    "print(int(sum(saled_price) + non_saled_price))\n"
   ]
  }
 ],
 "metadata": {
  "kernelspec": {
   "display_name": "Python 3",
   "language": "python",
   "name": "python3"
  },
  "language_info": {
   "codemirror_mode": {
    "name": "ipython",
    "version": 3
   },
   "file_extension": ".py",
   "mimetype": "text/x-python",
   "name": "python",
   "nbconvert_exporter": "python",
   "pygments_lexer": "ipython3",
   "version": "3.8.3"
  }
 },
 "nbformat": 4,
 "nbformat_minor": 4
}
