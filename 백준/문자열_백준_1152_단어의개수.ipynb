{
 "cells": [
  {
   "cell_type": "code",
   "execution_count": 2,
   "metadata": {},
   "outputs": [
    {
     "name": "stdout",
     "output_type": "stream",
     "text": [
      " Mazatneunde Wae Teullyeoyo\n",
      "3\n"
     ]
    }
   ],
   "source": [
    "string = input()\n",
    "\n",
    "num = string.count(' ')\n",
    "\n",
    "\n",
    "if string[0] == ' ':\n",
    "    \n",
    "    if string[-1] == ' ':\n",
    "        \n",
    "        print(num-1)\n",
    "        \n",
    "    else:\n",
    "        \n",
    "        print(num)\n",
    "    \n",
    "elif string[-1] == ' ':\n",
    "    \n",
    "    print(num)\n",
    "    \n",
    "else:\n",
    "    \n",
    "    print(num+1)\n",
    "\n"
   ]
  }
 ],
 "metadata": {
  "kernelspec": {
   "display_name": "Python 3",
   "language": "python",
   "name": "python3"
  },
  "language_info": {
   "codemirror_mode": {
    "name": "ipython",
    "version": 3
   },
   "file_extension": ".py",
   "mimetype": "text/x-python",
   "name": "python",
   "nbconvert_exporter": "python",
   "pygments_lexer": "ipython3",
   "version": "3.8.3"
  }
 },
 "nbformat": 4,
 "nbformat_minor": 4
}
