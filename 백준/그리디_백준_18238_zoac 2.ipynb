{
 "cells": [
  {
   "cell_type": "code",
   "execution_count": 3,
   "metadata": {},
   "outputs": [
    {
     "name": "stdout",
     "output_type": "stream",
     "text": [
      "LBOLVUEEPMOIENMG\n",
      "100\n"
     ]
    }
   ],
   "source": [
    "word = list(input())\n",
    "\n",
    "start = 'A'\n",
    "\n",
    "num = 0\n",
    "\n",
    "for i in range(len(word)):\n",
    "    \n",
    "    right = ord(start) - ord(word[i])\n",
    "\n",
    "    left = ord(word[i]) - ord(start)\n",
    "\n",
    "    if right < 0 :\n",
    "\n",
    "        right = right + 26\n",
    "\n",
    "    \n",
    "    if left < 0 :\n",
    "        \n",
    "        left = left + 26\n",
    "        \n",
    "    start = word[i]\n",
    "        \n",
    "    num = num + min(right, left)\n",
    "    \n",
    "print(num)\n",
    "                \n",
    "        "
   ]
  }
 ],
 "metadata": {
  "kernelspec": {
   "display_name": "Python 3",
   "language": "python",
   "name": "python3"
  },
  "language_info": {
   "codemirror_mode": {
    "name": "ipython",
    "version": 3
   },
   "file_extension": ".py",
   "mimetype": "text/x-python",
   "name": "python",
   "nbconvert_exporter": "python",
   "pygments_lexer": "ipython3",
   "version": "3.8.3"
  }
 },
 "nbformat": 4,
 "nbformat_minor": 4
}
