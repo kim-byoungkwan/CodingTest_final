{
 "cells": [
  {
   "cell_type": "code",
   "execution_count": 2,
   "metadata": {},
   "outputs": [
    {
     "name": "stdout",
     "output_type": "stream",
     "text": [
      "3 3\n",
      "5 6 7\n",
      "5 5 5\n",
      "3\n"
     ]
    }
   ],
   "source": [
    "box_num, book_num = map(int, input().split())\n",
    "\n",
    "\n",
    "box_size = list(map(int,input().split()))\n",
    "\n",
    "book_size = list(map(int,input().split()))\n",
    "\n",
    "    \n",
    "for m in range(box_num):\n",
    "    for n in range(book_num):\n",
    "        \n",
    "        if box_size[m] >= book_size[n]:\n",
    "            \n",
    "            box_size[m] = box_size[m] - book_size[n]\n",
    "            \n",
    "            book_size[n] = 0\n",
    "            \n",
    "        else:\n",
    "            \n",
    "            break\n",
    "            \n",
    "\n",
    "print(sum(box_size))\n",
    "\n",
    "\n"
   ]
  }
 ],
 "metadata": {
  "kernelspec": {
   "display_name": "Python 3",
   "language": "python",
   "name": "python3"
  },
  "language_info": {
   "codemirror_mode": {
    "name": "ipython",
    "version": 3
   },
   "file_extension": ".py",
   "mimetype": "text/x-python",
   "name": "python",
   "nbconvert_exporter": "python",
   "pygments_lexer": "ipython3",
   "version": "3.8.3"
  }
 },
 "nbformat": 4,
 "nbformat_minor": 4
}
