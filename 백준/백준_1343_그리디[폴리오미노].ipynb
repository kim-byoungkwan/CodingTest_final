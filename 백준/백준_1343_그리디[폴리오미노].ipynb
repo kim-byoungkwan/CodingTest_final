{
 "cells": [
  {
   "cell_type": "code",
   "execution_count": 17,
   "metadata": {},
   "outputs": [
    {
     "name": "stdout",
     "output_type": "stream",
     "text": [
      "XXXXXX\n",
      "AAAABB\n"
     ]
    }
   ],
   "source": [
    "board = input()\n",
    "\n",
    "\n",
    "board= board.replace('XXXX','AAAA')\n",
    "\n",
    "board = board.replace('XX','BB')\n",
    "\n",
    "\n",
    "if 'X' in board:\n",
    "    \n",
    "    print(-1)\n",
    "    \n",
    "else:\n",
    "    \n",
    "    print(board)\n"
   ]
  }
 ],
 "metadata": {
  "kernelspec": {
   "display_name": "Python 3",
   "language": "python",
   "name": "python3"
  },
  "language_info": {
   "codemirror_mode": {
    "name": "ipython",
    "version": 3
   },
   "file_extension": ".py",
   "mimetype": "text/x-python",
   "name": "python",
   "nbconvert_exporter": "python",
   "pygments_lexer": "ipython3",
   "version": "3.8.3"
  }
 },
 "nbformat": 4,
 "nbformat_minor": 4
}
