{
 "cells": [
  {
   "cell_type": "code",
   "execution_count": 28,
   "metadata": {},
   "outputs": [
    {
     "name": "stdout",
     "output_type": "stream",
     "text": [
      "3\n",
      "5\n",
      "7\n",
      "7\n",
      "2\n"
     ]
    }
   ],
   "source": [
    "num_candidate = int(input())\n",
    "\n",
    "num_vote = []\n",
    "\n",
    "count_take = 0\n",
    "\n",
    "\n",
    "for i in range(num_candidate):\n",
    "    \n",
    "    num_vote.append(int(input()))\n",
    "\n",
    "    \n",
    "if max(num_vote) == num_vote[0] and num_vote.count(max(num_vote)) >= 2:\n",
    "    \n",
    "    num_vote[0] = num_vote[0] +1\n",
    "    \n",
    "    count_take = count_take +1\n",
    "    \n",
    "else:\n",
    "    \n",
    "    while max(num_vote) > num_vote[0]:\n",
    "        \n",
    "        max_index = num_vote.index(max(num_vote))\n",
    "        \n",
    "        num_vote[max_index] = num_vote[max_index] -1\n",
    "        \n",
    "        \n",
    "        num_vote[0] = num_vote[0] +1\n",
    "        \n",
    "        count_take = count_take +1\n",
    "        \n",
    "        if max(num_vote) == num_vote[0] and num_vote.count(max(num_vote)) >= 2:\n",
    "            \n",
    "            num_vote[0] = num_vote[0] +1\n",
    "    \n",
    "            count_take = count_take +1\n",
    "            \n",
    "            \n",
    "print(count_take)\n",
    "        "
   ]
  }
 ],
 "metadata": {
  "kernelspec": {
   "display_name": "Python 3",
   "language": "python",
   "name": "python3"
  },
  "language_info": {
   "codemirror_mode": {
    "name": "ipython",
    "version": 3
   },
   "file_extension": ".py",
   "mimetype": "text/x-python",
   "name": "python",
   "nbconvert_exporter": "python",
   "pygments_lexer": "ipython3",
   "version": "3.8.3"
  }
 },
 "nbformat": 4,
 "nbformat_minor": 4
}
