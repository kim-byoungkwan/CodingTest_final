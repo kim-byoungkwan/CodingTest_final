{
 "cells": [
  {
   "cell_type": "code",
   "execution_count": 24,
   "metadata": {},
   "outputs": [
    {
     "name": "stdout",
     "output_type": "stream",
     "text": [
      "472\n",
      "385\n",
      "2360\n",
      "3776\n",
      "1416\n",
      "181720\n"
     ]
    }
   ],
   "source": [
    "num_first = int(input())\n",
    "\n",
    "num_second = input()\n",
    "\n",
    "final_num_second = int(num_second)\n",
    "\n",
    "\n",
    "remain = []\n",
    "\n",
    "\n",
    "for i in range(len(num_second)):\n",
    "    \n",
    "    remain.append(int(num_second) % 10)\n",
    "    \n",
    "    num_second = int(num_second) // 10\n",
    "    \n",
    "\n",
    "for j in remain:\n",
    "    \n",
    "    print(num_first * j)\n",
    "        \n",
    "\n",
    "print(num_first*final_num_second)\n",
    "    \n",
    "    "
   ]
  }
 ],
 "metadata": {
  "kernelspec": {
   "display_name": "Python 3",
   "language": "python",
   "name": "python3"
  },
  "language_info": {
   "codemirror_mode": {
    "name": "ipython",
    "version": 3
   },
   "file_extension": ".py",
   "mimetype": "text/x-python",
   "name": "python",
   "nbconvert_exporter": "python",
   "pygments_lexer": "ipython3",
   "version": "3.8.3"
  }
 },
 "nbformat": 4,
 "nbformat_minor": 4
}
