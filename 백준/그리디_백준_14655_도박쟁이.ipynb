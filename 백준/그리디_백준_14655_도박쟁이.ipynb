{
 "cells": [
  {
   "cell_type": "code",
   "execution_count": 8,
   "metadata": {},
   "outputs": [
    {
     "name": "stdout",
     "output_type": "stream",
     "text": [
      "6\n",
      "5 -2 -7 -8 9 1\n",
      "-9 1 8 -7 5 2\n",
      "64\n"
     ]
    }
   ],
   "source": [
    "n = int(input())\n",
    "\n",
    "round_first = list(map(int,input().split()))\n",
    "\n",
    "round_second = list(map(int,input().split()))\n",
    "\n",
    "\n",
    "for i in range(n):\n",
    "    \n",
    "    if round_first[i] < 0 :\n",
    "        \n",
    "        round_first[i] = - round_first[i]\n",
    "        \n",
    "    if round_second[i] > 0 :\n",
    "        \n",
    "        round_second[i] = - round_second[i]\n",
    "        \n",
    "\n",
    "print(sum(round_first) - sum(round_second))        \n",
    "        \n",
    "    \n",
    "\n"
   ]
  }
 ],
 "metadata": {
  "kernelspec": {
   "display_name": "Python 3",
   "language": "python",
   "name": "python3"
  },
  "language_info": {
   "codemirror_mode": {
    "name": "ipython",
    "version": 3
   },
   "file_extension": ".py",
   "mimetype": "text/x-python",
   "name": "python",
   "nbconvert_exporter": "python",
   "pygments_lexer": "ipython3",
   "version": "3.8.3"
  }
 },
 "nbformat": 4,
 "nbformat_minor": 4
}
