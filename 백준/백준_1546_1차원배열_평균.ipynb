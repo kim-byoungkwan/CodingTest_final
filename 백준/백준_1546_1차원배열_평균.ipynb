{
 "cells": [
  {
   "cell_type": "code",
   "execution_count": 43,
   "metadata": {},
   "outputs": [
    {
     "name": "stdout",
     "output_type": "stream",
     "text": [
      "3\n",
      "40 80 60\n",
      "75.0\n"
     ]
    }
   ],
   "source": [
    "N = int(input())\n",
    "\n",
    "total = []\n",
    "\n",
    "num_new = []\n",
    "\n",
    "total_new = []\n",
    "\n",
    "total.append(list(map(int,input().split())))\n",
    "\n",
    "\n",
    "for i in range(N):\n",
    "    \n",
    "    num_new.append(total[0][i])\n",
    "      \n",
    "high = max(num_new)        \n",
    "\n",
    "for j in range(N):\n",
    "    \n",
    "    total_new.append((num_new[j]/high)*100)\n",
    "    \n",
    "\n",
    "print(sum(total_new)/len(total_new))\n",
    "    \n",
    "    "
   ]
  }
 ],
 "metadata": {
  "kernelspec": {
   "display_name": "Python 3",
   "language": "python",
   "name": "python3"
  },
  "language_info": {
   "codemirror_mode": {
    "name": "ipython",
    "version": 3
   },
   "file_extension": ".py",
   "mimetype": "text/x-python",
   "name": "python",
   "nbconvert_exporter": "python",
   "pygments_lexer": "ipython3",
   "version": "3.8.3"
  }
 },
 "nbformat": 4,
 "nbformat_minor": 4
}
