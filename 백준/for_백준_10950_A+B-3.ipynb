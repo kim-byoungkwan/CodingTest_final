{
 "cells": [
  {
   "cell_type": "code",
   "execution_count": 19,
   "metadata": {},
   "outputs": [
    {
     "name": "stdout",
     "output_type": "stream",
     "text": [
      "5\n",
      "1 1\n",
      "2 3\n",
      "3 4\n",
      "9 8\n",
      "5 2\n",
      "[[1, 1], [2, 3], [3, 4], [9, 8], [5, 2]]\n",
      "2\n",
      "5\n",
      "7\n",
      "17\n",
      "7\n"
     ]
    }
   ],
   "source": [
    "n = int(input())\n",
    "\n",
    "total = []\n",
    "\n",
    "add = 0\n",
    "\n",
    "\n",
    "for i in range(n):\n",
    "    \n",
    "    total.append(list(map(int,input().split())))\n",
    "\n",
    "       \n",
    "for j in range(n):\n",
    "    \n",
    "    for m in range(0,1):\n",
    "        \n",
    "        print(total[j][m] + total[j][m+1])\n",
    "        \n",
    "        \n",
    "    "
   ]
  }
 ],
 "metadata": {
  "kernelspec": {
   "display_name": "Python 3",
   "language": "python",
   "name": "python3"
  },
  "language_info": {
   "codemirror_mode": {
    "name": "ipython",
    "version": 3
   },
   "file_extension": ".py",
   "mimetype": "text/x-python",
   "name": "python",
   "nbconvert_exporter": "python",
   "pygments_lexer": "ipython3",
   "version": "3.8.3"
  }
 },
 "nbformat": 4,
 "nbformat_minor": 4
}
