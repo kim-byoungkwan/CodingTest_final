{
 "cells": [
  {
   "cell_type": "code",
   "execution_count": 4,
   "metadata": {},
   "outputs": [
    {
     "name": "stdout",
     "output_type": "stream",
     "text": [
      "5\n",
      "1 1\n",
      "2 3\n",
      "3 4\n",
      "9 8\n",
      "5 2\n",
      "Case #0: 1 + 1 = 2\n",
      "Case #1: 2 + 3 = 5\n",
      "Case #2: 3 + 4 = 7\n",
      "Case #3: 9 + 8 = 17\n",
      "Case #4: 5 + 2 = 7\n"
     ]
    }
   ],
   "source": [
    "T = int(input())\n",
    "\n",
    "total = []\n",
    "\n",
    "\n",
    "for i in range(T):\n",
    "    \n",
    "    total.append(list(map(int,input().split())))\n",
    "\n",
    "for j in range(T):\n",
    "    \n",
    "    print(\"Case #\"+str(j+1)+\":\"+\" \"+str(total[j][0])+\" \"+\"+\"+\" \"+str(total[j][1])+\" \"+\"=\"+\" \",total[j][0]+total[j][1],sep='')\n",
    "\n",
    "    "
   ]
  }
 ],
 "metadata": {
  "kernelspec": {
   "display_name": "Python 3",
   "language": "python",
   "name": "python3"
  },
  "language_info": {
   "codemirror_mode": {
    "name": "ipython",
    "version": 3
   },
   "file_extension": ".py",
   "mimetype": "text/x-python",
   "name": "python",
   "nbconvert_exporter": "python",
   "pygments_lexer": "ipython3",
   "version": "3.8.3"
  }
 },
 "nbformat": 4,
 "nbformat_minor": 4
}
