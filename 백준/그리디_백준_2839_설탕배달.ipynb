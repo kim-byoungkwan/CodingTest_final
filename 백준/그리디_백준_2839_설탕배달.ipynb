{
 "cells": [
  {
   "cell_type": "code",
   "execution_count": null,
   "metadata": {},
   "outputs": [],
   "source": [
    "n = int(input())\n",
    "\n",
    "num = []\n",
    "\n",
    "\n",
    "for a in range(n//3 + 1):\n",
    "    \n",
    "    for b in range(n//3 + 1):\n",
    "            \n",
    "        if n == a*3 + b*5:\n",
    "            \n",
    "            num.append(a + b)\n",
    "        \n",
    "        else:\n",
    "            \n",
    "            continue\n",
    "            \n",
    "if len(num) == 0:\n",
    "    \n",
    "    print(-1)\n",
    "    \n",
    "else:\n",
    "    \n",
    "    print(min(num))\n",
    "\n",
    "    \n"
   ]
  }
 ],
 "metadata": {
  "kernelspec": {
   "display_name": "Python 3",
   "language": "python",
   "name": "python3"
  },
  "language_info": {
   "codemirror_mode": {
    "name": "ipython",
    "version": 3
   },
   "file_extension": ".py",
   "mimetype": "text/x-python",
   "name": "python",
   "nbconvert_exporter": "python",
   "pygments_lexer": "ipython3",
   "version": "3.8.3"
  }
 },
 "nbformat": 4,
 "nbformat_minor": 4
}
