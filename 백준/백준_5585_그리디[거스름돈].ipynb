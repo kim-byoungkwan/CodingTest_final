{
 "cells": [
  {
   "cell_type": "code",
   "execution_count": 8,
   "metadata": {},
   "outputs": [
    {
     "name": "stdout",
     "output_type": "stream",
     "text": [
      "1\n",
      "15\n"
     ]
    }
   ],
   "source": [
    "n = int(input())\n",
    "\n",
    "coin = [500, 100, 50, 10, 5, 1]\n",
    "\n",
    "residual = 1000 - n\n",
    "\n",
    "\n",
    "num = 0\n",
    "\n",
    "\n",
    "for i in coin:\n",
    "    \n",
    "    if residual // i > 0:\n",
    "        \n",
    "        num = num + residual // i\n",
    "        \n",
    "        residual = residual % i\n",
    "        \n",
    "        \n",
    "    else:\n",
    "        \n",
    "        continue\n",
    "        \n",
    "print(num)\n",
    "\n"
   ]
  }
 ],
 "metadata": {
  "kernelspec": {
   "display_name": "Python 3",
   "language": "python",
   "name": "python3"
  },
  "language_info": {
   "codemirror_mode": {
    "name": "ipython",
    "version": 3
   },
   "file_extension": ".py",
   "mimetype": "text/x-python",
   "name": "python",
   "nbconvert_exporter": "python",
   "pygments_lexer": "ipython3",
   "version": "3.8.3"
  }
 },
 "nbformat": 4,
 "nbformat_minor": 4
}
