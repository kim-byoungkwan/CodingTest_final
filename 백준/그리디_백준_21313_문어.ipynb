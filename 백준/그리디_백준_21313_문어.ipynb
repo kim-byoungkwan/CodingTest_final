{
 "cells": [
  {
   "cell_type": "code",
   "execution_count": 6,
   "metadata": {},
   "outputs": [
    {
     "name": "stdout",
     "output_type": "stream",
     "text": [
      "8\n",
      "1 2 1 2 1 2 1 2 "
     ]
    }
   ],
   "source": [
    "n = int(input())\n",
    "\n",
    "result = []\n",
    "\n",
    "if n % 2 == 0:\n",
    "    \n",
    "    for i in range(n):\n",
    "        \n",
    "        if i % 2 == 0:\n",
    "            \n",
    "            result.append(1)\n",
    "            \n",
    "        else:\n",
    "            \n",
    "            result.append(2)\n",
    "else:\n",
    "    \n",
    "    for j in range(n):\n",
    "        \n",
    "        if j % 2 == 0:\n",
    "            \n",
    "            result.append(1)\n",
    "                     \n",
    "        else:\n",
    "            \n",
    "            result.append(2)\n",
    "            \n",
    "    result[n-1] = 3\n",
    "    \n",
    "for m in result:\n",
    "    \n",
    "    print(m,end=' ')\n",
    "    \n",
    "\n"
   ]
  }
 ],
 "metadata": {
  "kernelspec": {
   "display_name": "Python 3",
   "language": "python",
   "name": "python3"
  },
  "language_info": {
   "codemirror_mode": {
    "name": "ipython",
    "version": 3
   },
   "file_extension": ".py",
   "mimetype": "text/x-python",
   "name": "python",
   "nbconvert_exporter": "python",
   "pygments_lexer": "ipython3",
   "version": "3.8.3"
  }
 },
 "nbformat": 4,
 "nbformat_minor": 4
}
