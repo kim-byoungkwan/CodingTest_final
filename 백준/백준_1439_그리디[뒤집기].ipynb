{
 "cells": [
  {
   "cell_type": "code",
   "execution_count": 3,
   "metadata": {},
   "outputs": [
    {
     "name": "stdout",
     "output_type": "stream",
     "text": [
      "00111100110000\n",
      "2\n"
     ]
    }
   ],
   "source": [
    "string = input()\n",
    "\n",
    "count = 0\n",
    "\n",
    "final = 0\n",
    "\n",
    "\n",
    "for i in range(len(string)-1):\n",
    "    \n",
    "    if string[i] != string[i+1]:\n",
    "        \n",
    "        count = count + 1\n",
    "        \n",
    "        \n",
    "if count % 2 == 0:\n",
    "\n",
    "    final = final + (count//2)\n",
    "\n",
    "else:\n",
    "\n",
    "    final = final + (count//2 + 1)\n",
    "\n",
    "            \n",
    "            \n",
    "print(final)\n",
    "        \n",
    "        "
   ]
  }
 ],
 "metadata": {
  "kernelspec": {
   "display_name": "Python 3",
   "language": "python",
   "name": "python3"
  },
  "language_info": {
   "codemirror_mode": {
    "name": "ipython",
    "version": 3
   },
   "file_extension": ".py",
   "mimetype": "text/x-python",
   "name": "python",
   "nbconvert_exporter": "python",
   "pygments_lexer": "ipython3",
   "version": "3.8.3"
  }
 },
 "nbformat": 4,
 "nbformat_minor": 4
}
