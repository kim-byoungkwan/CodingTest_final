{
 "cells": [
  {
   "cell_type": "code",
   "execution_count": 45,
   "metadata": {},
   "outputs": [
    {
     "ename": "SyntaxError",
     "evalue": "invalid syntax (<ipython-input-45-958f1a8f0ce4>, line 32)",
     "output_type": "error",
     "traceback": [
      "\u001b[1;36m  File \u001b[1;32m\"<ipython-input-45-958f1a8f0ce4>\"\u001b[1;36m, line \u001b[1;32m32\u001b[0m\n\u001b[1;33m    store_temp = []\u001b[0m\n\u001b[1;37m    ^\u001b[0m\n\u001b[1;31mSyntaxError\u001b[0m\u001b[1;31m:\u001b[0m invalid syntax\n"
     ]
    }
   ],
   "source": [
    "num = int(input())\n",
    "\n",
    "store = []\n",
    "\n",
    "store_temp = []\n",
    "\n",
    "count = 0\n",
    "\n",
    "for i in range(num):\n",
    "    \n",
    "    store.append(list(map(int,input().split())))\n",
    "\n",
    "print(store)\n",
    "\n",
    "\n",
    "\n",
    "for j in range(num):\n",
    "    \n",
    "    for m in range(1,store[j][0]+1):\n",
    "        \n",
    "        store_temp.append(store[j][m])\n",
    "        \n",
    "    \n",
    "    for k in range(len(store_temp)):\n",
    "        \n",
    "        if sum(store_temp)/len(store_temp) < store_temp[k]:\n",
    "            \n",
    "            count = count + 1\n",
    "            \n",
    "    print((count/len(store_temp)*100)\n",
    "          \n",
    "    store_temp = []\n",
    "          \n",
    "    "
   ]
  }
 ],
 "metadata": {
  "kernelspec": {
   "display_name": "Python 3",
   "language": "python",
   "name": "python3"
  },
  "language_info": {
   "codemirror_mode": {
    "name": "ipython",
    "version": 3
   },
   "file_extension": ".py",
   "mimetype": "text/x-python",
   "name": "python",
   "nbconvert_exporter": "python",
   "pygments_lexer": "ipython3",
   "version": "3.8.3"
  }
 },
 "nbformat": 4,
 "nbformat_minor": 4
}
