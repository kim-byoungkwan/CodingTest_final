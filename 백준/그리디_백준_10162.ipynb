{
 "cells": [
  {
   "cell_type": "code",
   "execution_count": 12,
   "metadata": {},
   "outputs": [
    {
     "name": "stdout",
     "output_type": "stream",
     "text": [
      "190\n",
      "0 3 1 "
     ]
    }
   ],
   "source": [
    "t = int(input())\n",
    "\n",
    "total = [300, 60, 10]\n",
    "\n",
    "num = []\n",
    "\n",
    "remain = 1\n",
    "\n",
    "if t%10 == 0:\n",
    "    \n",
    "    while remain != 0:\n",
    "        \n",
    "        for i in total:\n",
    "            \n",
    "            num.append(t//i)\n",
    "            \n",
    "            t = t%i\n",
    "            \n",
    "            remain = t%i\n",
    "                                        \n",
    "            \n",
    "else:\n",
    "    \n",
    "    print(-1)\n",
    "\n",
    "for j in num:\n",
    "    \n",
    "    print(j, end=' ')\n"
   ]
  }
 ],
 "metadata": {
  "kernelspec": {
   "display_name": "Python 3",
   "language": "python",
   "name": "python3"
  },
  "language_info": {
   "codemirror_mode": {
    "name": "ipython",
    "version": 3
   },
   "file_extension": ".py",
   "mimetype": "text/x-python",
   "name": "python",
   "nbconvert_exporter": "python",
   "pygments_lexer": "ipython3",
   "version": "3.8.3"
  }
 },
 "nbformat": 4,
 "nbformat_minor": 4
}
