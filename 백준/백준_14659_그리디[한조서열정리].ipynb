{
 "cells": [
  {
   "cell_type": "code",
   "execution_count": 1,
   "metadata": {},
   "outputs": [
    {
     "name": "stdout",
     "output_type": "stream",
     "text": [
      "7\n",
      "6 4 10 2 5 7 11\n",
      "3\n"
     ]
    }
   ],
   "source": [
    "n = int(input())\n",
    "\n",
    "height = list(map(int,input().split()))\n",
    "\n",
    "\n",
    "num = 0\n",
    "\n",
    "num_set = []\n",
    "\n",
    "for i in range(n-1):\n",
    "    \n",
    "    for j in range(i+1,n):\n",
    "    \n",
    "        if height[i] > height[j]:\n",
    "            \n",
    "            num = num + 1\n",
    "            \n",
    "        else:\n",
    "            \n",
    "            break\n",
    "            \n",
    "            \n",
    "    num_set.append(num)\n",
    "    \n",
    "    num = 0\n",
    "    \n",
    "print(max(num_set))\n",
    "            \n",
    "            \n"
   ]
  }
 ],
 "metadata": {
  "kernelspec": {
   "display_name": "Python 3",
   "language": "python",
   "name": "python3"
  },
  "language_info": {
   "codemirror_mode": {
    "name": "ipython",
    "version": 3
   },
   "file_extension": ".py",
   "mimetype": "text/x-python",
   "name": "python",
   "nbconvert_exporter": "python",
   "pygments_lexer": "ipython3",
   "version": "3.8.3"
  }
 },
 "nbformat": 4,
 "nbformat_minor": 4
}
