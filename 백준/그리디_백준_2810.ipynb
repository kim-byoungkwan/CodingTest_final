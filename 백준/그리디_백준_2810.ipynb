{
 "cells": [
  {
   "cell_type": "code",
   "execution_count": 6,
   "metadata": {},
   "outputs": [
    {
     "name": "stdout",
     "output_type": "stream",
     "text": [
      "4\n",
      "SLLS\n",
      "4\n"
     ]
    }
   ],
   "source": [
    "n = int(input())\n",
    "\n",
    "information = input()\n",
    "\n",
    "\n",
    "if information.count('L') == 0:\n",
    "    \n",
    "    print(n) \n",
    "    \n",
    "else:\n",
    "    \n",
    "    num_LL_former = information.count('L')\n",
    "\n",
    "    num_LL_final = int(num_LL_former/2 - 1)\n",
    "\n",
    "    print(int(n - num_LL_final))\n",
    "\n",
    "    \n",
    "        \n"
   ]
  }
 ],
 "metadata": {
  "kernelspec": {
   "display_name": "Python 3",
   "language": "python",
   "name": "python3"
  },
  "language_info": {
   "codemirror_mode": {
    "name": "ipython",
    "version": 3
   },
   "file_extension": ".py",
   "mimetype": "text/x-python",
   "name": "python",
   "nbconvert_exporter": "python",
   "pygments_lexer": "ipython3",
   "version": "3.8.3"
  }
 },
 "nbformat": 4,
 "nbformat_minor": 4
}
