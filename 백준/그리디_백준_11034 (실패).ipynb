{
 "cells": [
  {
   "cell_type": "code",
   "execution_count": 2,
   "metadata": {},
   "outputs": [
    {
     "name": "stdout",
     "output_type": "stream",
     "text": [
      "3 5 9\n",
      "3\n"
     ]
    }
   ],
   "source": [
    "A,B,C = map(int,input().split())\n",
    "\n",
    "\n",
    "if abs(A-B) > abs(C-B) :\n",
    "    \n",
    "    print(abs(A-B)-1)\n",
    "    \n",
    "else: \n",
    "    \n",
    "    print(abs(C-B)-1)\n",
    "\n",
    "\n",
    "# 오답인 이유는, 이러한 코드는 일회성의 코드로써 여러개의 테스트 케이스를 소화하는 \n",
    "# 코드가 아니기 때문이다.\n"
   ]
  }
 ],
 "metadata": {
  "kernelspec": {
   "display_name": "Python 3",
   "language": "python",
   "name": "python3"
  },
  "language_info": {
   "codemirror_mode": {
    "name": "ipython",
    "version": 3
   },
   "file_extension": ".py",
   "mimetype": "text/x-python",
   "name": "python",
   "nbconvert_exporter": "python",
   "pygments_lexer": "ipython3",
   "version": "3.8.3"
  }
 },
 "nbformat": 4,
 "nbformat_minor": 4
}
