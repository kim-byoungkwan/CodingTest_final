{
 "cells": [
  {
   "cell_type": "code",
   "execution_count": 12,
   "metadata": {},
   "outputs": [
    {
     "name": "stdout",
     "output_type": "stream",
     "text": [
      "8 7 5\n",
      "1 3\n",
      "2 5\n",
      "3 5\n",
      "4 8\n",
      "5 8\n",
      "6 9\n",
      "6 7\n",
      "7 10\n",
      "660\n"
     ]
    }
   ],
   "source": [
    "num_problem, capa, num_max = map(int, input().split())\n",
    "\n",
    "subtask = []\n",
    "\n",
    "for i in range(num_problem):\n",
    "    \n",
    "    subtask.append(list(map(int, input().split())))\n",
    "\n",
    "\n",
    "score = 0\n",
    "\n",
    "count = 0\n",
    "\n",
    "    \n",
    "list_exception = list(range(num_problem))\n",
    "\n",
    "\n",
    "\n",
    "for j in range(num_problem):\n",
    "    \n",
    "    if capa >= subtask[j][1]:\n",
    "        \n",
    "        score = score + 140\n",
    "        \n",
    "        list_exception.remove(j)\n",
    "        \n",
    "        count = count + 1\n",
    "        \n",
    "        \n",
    "        if count == num_max:\n",
    "            \n",
    "            break\n",
    "            \n",
    "        else:\n",
    "            \n",
    "            continue\n",
    "                    \n",
    "\n",
    "for m in list_exception:\n",
    "    \n",
    "    if capa >= subtask[m][0]:\n",
    "\n",
    "        score = score + 100\n",
    "\n",
    "        count = count + 1\n",
    "\n",
    "        if count == num_max:\n",
    "\n",
    "            break\n",
    "\n",
    "        else:\n",
    "\n",
    "            continue\n",
    "        \n",
    "print(score)\n",
    "\n",
    "\n"
   ]
  }
 ],
 "metadata": {
  "kernelspec": {
   "display_name": "Python 3",
   "language": "python",
   "name": "python3"
  },
  "language_info": {
   "codemirror_mode": {
    "name": "ipython",
    "version": 3
   },
   "file_extension": ".py",
   "mimetype": "text/x-python",
   "name": "python",
   "nbconvert_exporter": "python",
   "pygments_lexer": "ipython3",
   "version": "3.8.3"
  }
 },
 "nbformat": 4,
 "nbformat_minor": 4
}
