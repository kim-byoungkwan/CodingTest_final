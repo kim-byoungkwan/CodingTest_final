{
 "cells": [
  {
   "cell_type": "code",
   "execution_count": 3,
   "metadata": {},
   "outputs": [
    {
     "name": "stdout",
     "output_type": "stream",
     "text": [
      "200\n",
      "19\n"
     ]
    }
   ],
   "source": [
    "sum = int(input())\n",
    "\n",
    "num = 0\n",
    "\n",
    "count = 0\n",
    "\n",
    "\n",
    "for i in range(1,sum+1):\n",
    "    \n",
    "    num = num + i\n",
    "    \n",
    "    count = count + 1\n",
    "    \n",
    "    if num == sum:\n",
    "        \n",
    "        print(count)\n",
    "        \n",
    "        break\n",
    "         \n",
    "            \n",
    "    elif num > sum:\n",
    "        \n",
    "        print(count-1)\n",
    "        \n",
    "        break\n",
    "    \n",
    "    else:\n",
    "        \n",
    "        continue\n",
    "       \n",
    "    "
   ]
  }
 ],
 "metadata": {
  "kernelspec": {
   "display_name": "Python 3",
   "language": "python",
   "name": "python3"
  },
  "language_info": {
   "codemirror_mode": {
    "name": "ipython",
    "version": 3
   },
   "file_extension": ".py",
   "mimetype": "text/x-python",
   "name": "python",
   "nbconvert_exporter": "python",
   "pygments_lexer": "ipython3",
   "version": "3.8.3"
  }
 },
 "nbformat": 4,
 "nbformat_minor": 4
}
