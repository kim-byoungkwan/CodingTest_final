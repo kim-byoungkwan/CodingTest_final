{
 "cells": [
  {
   "cell_type": "code",
   "execution_count": 8,
   "metadata": {},
   "outputs": [
    {
     "name": "stdout",
     "output_type": "stream",
     "text": [
      "0 30\n",
      "23 45\n"
     ]
    }
   ],
   "source": [
    "H, M = map(int,input().split())\n",
    "\n",
    "minute_total = (H * 60) + M\n",
    "\n",
    "minute_final = minute_total - 45\n",
    "\n",
    "\n",
    "\n",
    "if minute_final < 0 :\n",
    "    \n",
    "    minute_minus = 1440 + minute_final\n",
    "    \n",
    "    H_minus = minute_minus // 60\n",
    "    \n",
    "    M_minus = minute_minus % 60\n",
    "    \n",
    "    print(H_minus, M_minus, sep=' ')\n",
    "\n",
    "    \n",
    "else:\n",
    "    \n",
    "    H_new = minute_final // 60\n",
    "\n",
    "    M_new = minute_final % 60\n",
    "\n",
    "    print(H_new, M_new, sep=' ')\n",
    "\n"
   ]
  }
 ],
 "metadata": {
  "kernelspec": {
   "display_name": "Python 3",
   "language": "python",
   "name": "python3"
  },
  "language_info": {
   "codemirror_mode": {
    "name": "ipython",
    "version": 3
   },
   "file_extension": ".py",
   "mimetype": "text/x-python",
   "name": "python",
   "nbconvert_exporter": "python",
   "pygments_lexer": "ipython3",
   "version": "3.8.3"
  }
 },
 "nbformat": 4,
 "nbformat_minor": 4
}
