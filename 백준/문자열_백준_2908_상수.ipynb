{
 "cells": [
  {
   "cell_type": "code",
   "execution_count": 19,
   "metadata": {},
   "outputs": [
    {
     "name": "stdout",
     "output_type": "stream",
     "text": [
      "734 893\n",
      "437\n"
     ]
    }
   ],
   "source": [
    "num = list(map(int,input().split()))\n",
    "\n",
    "store = []\n",
    "\n",
    "\n",
    "for i in range(2):\n",
    "    \n",
    "    last = num[i] % 10\n",
    "    \n",
    "    middle = (num[i] // 10) % 10\n",
    "    \n",
    "    first = (num[i] // 10) // 10\n",
    "        \n",
    "    store.append((last*100 + middle*10 + first))\n",
    "    \n",
    "print(max(store))    \n",
    "\n"
   ]
  }
 ],
 "metadata": {
  "kernelspec": {
   "display_name": "Python 3",
   "language": "python",
   "name": "python3"
  },
  "language_info": {
   "codemirror_mode": {
    "name": "ipython",
    "version": 3
   },
   "file_extension": ".py",
   "mimetype": "text/x-python",
   "name": "python",
   "nbconvert_exporter": "python",
   "pygments_lexer": "ipython3",
   "version": "3.8.3"
  }
 },
 "nbformat": 4,
 "nbformat_minor": 4
}
